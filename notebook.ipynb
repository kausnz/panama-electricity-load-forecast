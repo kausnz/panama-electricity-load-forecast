{
 "cells": [
  {
   "cell_type": "markdown",
   "source": [
    "# Imports"
   ],
   "metadata": {
    "collapsed": false
   }
  },
  {
   "cell_type": "code",
   "execution_count": 202,
   "metadata": {
    "collapsed": true
   },
   "outputs": [],
   "source": [
    "import pandas as pd\n",
    "import numpy as np\n",
    "\n",
    "from tqdm.auto import tqdm\n",
    "\n",
    "from sklearn.model_selection import train_test_split\n",
    "from sklearn.feature_extraction import DictVectorizer\n",
    "from sklearn.ensemble import RandomForestRegressor\n",
    "from sklearn.metrics import mean_squared_error\n",
    "from sklearn.metrics import mean_absolute_error\n",
    "\n",
    "import xgboost as xgb\n",
    "\n",
    "import matplotlib.pyplot as plt\n",
    "import seaborn as sns"
   ]
  },
  {
   "cell_type": "code",
   "execution_count": 203,
   "outputs": [],
   "source": [
    "data_file = 'data/continuous_dataset.csv'\n",
    "df = pd.read_csv(data_file)\n",
    "\n",
    "data_file = 'data/weekly_pre_dispatch_forecast.csv'\n",
    "df_forecast_pre_dispatch = pd.read_csv(data_file)"
   ],
   "metadata": {
    "collapsed": false
   }
  },
  {
   "cell_type": "code",
   "execution_count": 204,
   "outputs": [
    {
     "data": {
      "text/plain": "                  datetime  nat_demand    T2M_toc  QV2M_toc   TQL_toc  \\\n0      2015-01-03 01:00:00    970.3450  25.865259  0.018576  0.016174   \n1      2015-01-03 02:00:00    912.1755  25.899255  0.018653  0.016418   \n2      2015-01-03 03:00:00    900.2688  25.937280  0.018768  0.015480   \n3      2015-01-03 04:00:00    889.9538  25.957544  0.018890  0.016273   \n4      2015-01-03 05:00:00    893.6865  25.973840  0.018981  0.017281   \n...                    ...         ...        ...       ...       ...   \n48043  2020-06-26 20:00:00   1128.5592  27.246545  0.020303  0.055511   \n48044  2020-06-26 21:00:00   1112.7488  27.099573  0.020395  0.053848   \n48045  2020-06-26 22:00:00   1081.5680  26.971155  0.020448  0.057251   \n48046  2020-06-26 23:00:00   1041.6240  26.867487  0.020464  0.064178   \n48047  2020-06-27 00:00:00   1013.5683  26.750330  0.020441  0.063965   \n\n         W2M_toc    T2M_san  QV2M_san   TQL_san    W2M_san    T2M_dav  \\\n0      21.850546  23.482446  0.017272  0.001855  10.328949  22.662134   \n1      22.166944  23.399255  0.017265  0.001327  10.681517  22.578943   \n2      22.454911  23.343530  0.017211  0.001428  10.874924  22.531030   \n3      22.110481  23.238794  0.017128  0.002599  10.518620  22.512231   \n4      21.186089  23.075403  0.017059  0.001729   9.733589  22.481653   \n...          ...        ...       ...       ...        ...        ...   \n48043   9.289304  25.715295  0.019746  0.121552   1.990773  23.746545   \n48044   9.837504  25.552698  0.019632  0.153870   2.094459  23.693323   \n48045  10.262464  25.393030  0.019518  0.144531   2.396369  23.658655   \n48046  10.326567  25.258112  0.019403  0.108063   2.720871  23.601862   \n48047  10.198346  25.125330  0.019281  0.100189   2.785751  23.562830   \n\n       QV2M_dav   TQL_dav   W2M_dav  Holiday_ID  holiday  school  \n0      0.016562  0.096100  5.364148           0        0       0  \n1      0.016509  0.087646  5.572471           0        0       0  \n2      0.016479  0.078735  5.871184           0        0       0  \n3      0.016487  0.068390  5.883621           0        0       0  \n4      0.016456  0.064362  5.611724           0        0       0  \n...         ...       ...       ...         ...      ...     ...  \n48043  0.018381  0.150879  2.444658           0        0       1  \n48044  0.018320  0.156311  2.515814           0        0       1  \n48045  0.018327  0.153259  2.800717           0        0       1  \n48046  0.018358  0.152771  3.138132           0        0       1  \n48047  0.018404  0.162598  3.286878           0        0       1  \n\n[48048 rows x 17 columns]",
      "text/html": "<div>\n<style scoped>\n    .dataframe tbody tr th:only-of-type {\n        vertical-align: middle;\n    }\n\n    .dataframe tbody tr th {\n        vertical-align: top;\n    }\n\n    .dataframe thead th {\n        text-align: right;\n    }\n</style>\n<table border=\"1\" class=\"dataframe\">\n  <thead>\n    <tr style=\"text-align: right;\">\n      <th></th>\n      <th>datetime</th>\n      <th>nat_demand</th>\n      <th>T2M_toc</th>\n      <th>QV2M_toc</th>\n      <th>TQL_toc</th>\n      <th>W2M_toc</th>\n      <th>T2M_san</th>\n      <th>QV2M_san</th>\n      <th>TQL_san</th>\n      <th>W2M_san</th>\n      <th>T2M_dav</th>\n      <th>QV2M_dav</th>\n      <th>TQL_dav</th>\n      <th>W2M_dav</th>\n      <th>Holiday_ID</th>\n      <th>holiday</th>\n      <th>school</th>\n    </tr>\n  </thead>\n  <tbody>\n    <tr>\n      <th>0</th>\n      <td>2015-01-03 01:00:00</td>\n      <td>970.3450</td>\n      <td>25.865259</td>\n      <td>0.018576</td>\n      <td>0.016174</td>\n      <td>21.850546</td>\n      <td>23.482446</td>\n      <td>0.017272</td>\n      <td>0.001855</td>\n      <td>10.328949</td>\n      <td>22.662134</td>\n      <td>0.016562</td>\n      <td>0.096100</td>\n      <td>5.364148</td>\n      <td>0</td>\n      <td>0</td>\n      <td>0</td>\n    </tr>\n    <tr>\n      <th>1</th>\n      <td>2015-01-03 02:00:00</td>\n      <td>912.1755</td>\n      <td>25.899255</td>\n      <td>0.018653</td>\n      <td>0.016418</td>\n      <td>22.166944</td>\n      <td>23.399255</td>\n      <td>0.017265</td>\n      <td>0.001327</td>\n      <td>10.681517</td>\n      <td>22.578943</td>\n      <td>0.016509</td>\n      <td>0.087646</td>\n      <td>5.572471</td>\n      <td>0</td>\n      <td>0</td>\n      <td>0</td>\n    </tr>\n    <tr>\n      <th>2</th>\n      <td>2015-01-03 03:00:00</td>\n      <td>900.2688</td>\n      <td>25.937280</td>\n      <td>0.018768</td>\n      <td>0.015480</td>\n      <td>22.454911</td>\n      <td>23.343530</td>\n      <td>0.017211</td>\n      <td>0.001428</td>\n      <td>10.874924</td>\n      <td>22.531030</td>\n      <td>0.016479</td>\n      <td>0.078735</td>\n      <td>5.871184</td>\n      <td>0</td>\n      <td>0</td>\n      <td>0</td>\n    </tr>\n    <tr>\n      <th>3</th>\n      <td>2015-01-03 04:00:00</td>\n      <td>889.9538</td>\n      <td>25.957544</td>\n      <td>0.018890</td>\n      <td>0.016273</td>\n      <td>22.110481</td>\n      <td>23.238794</td>\n      <td>0.017128</td>\n      <td>0.002599</td>\n      <td>10.518620</td>\n      <td>22.512231</td>\n      <td>0.016487</td>\n      <td>0.068390</td>\n      <td>5.883621</td>\n      <td>0</td>\n      <td>0</td>\n      <td>0</td>\n    </tr>\n    <tr>\n      <th>4</th>\n      <td>2015-01-03 05:00:00</td>\n      <td>893.6865</td>\n      <td>25.973840</td>\n      <td>0.018981</td>\n      <td>0.017281</td>\n      <td>21.186089</td>\n      <td>23.075403</td>\n      <td>0.017059</td>\n      <td>0.001729</td>\n      <td>9.733589</td>\n      <td>22.481653</td>\n      <td>0.016456</td>\n      <td>0.064362</td>\n      <td>5.611724</td>\n      <td>0</td>\n      <td>0</td>\n      <td>0</td>\n    </tr>\n    <tr>\n      <th>...</th>\n      <td>...</td>\n      <td>...</td>\n      <td>...</td>\n      <td>...</td>\n      <td>...</td>\n      <td>...</td>\n      <td>...</td>\n      <td>...</td>\n      <td>...</td>\n      <td>...</td>\n      <td>...</td>\n      <td>...</td>\n      <td>...</td>\n      <td>...</td>\n      <td>...</td>\n      <td>...</td>\n      <td>...</td>\n    </tr>\n    <tr>\n      <th>48043</th>\n      <td>2020-06-26 20:00:00</td>\n      <td>1128.5592</td>\n      <td>27.246545</td>\n      <td>0.020303</td>\n      <td>0.055511</td>\n      <td>9.289304</td>\n      <td>25.715295</td>\n      <td>0.019746</td>\n      <td>0.121552</td>\n      <td>1.990773</td>\n      <td>23.746545</td>\n      <td>0.018381</td>\n      <td>0.150879</td>\n      <td>2.444658</td>\n      <td>0</td>\n      <td>0</td>\n      <td>1</td>\n    </tr>\n    <tr>\n      <th>48044</th>\n      <td>2020-06-26 21:00:00</td>\n      <td>1112.7488</td>\n      <td>27.099573</td>\n      <td>0.020395</td>\n      <td>0.053848</td>\n      <td>9.837504</td>\n      <td>25.552698</td>\n      <td>0.019632</td>\n      <td>0.153870</td>\n      <td>2.094459</td>\n      <td>23.693323</td>\n      <td>0.018320</td>\n      <td>0.156311</td>\n      <td>2.515814</td>\n      <td>0</td>\n      <td>0</td>\n      <td>1</td>\n    </tr>\n    <tr>\n      <th>48045</th>\n      <td>2020-06-26 22:00:00</td>\n      <td>1081.5680</td>\n      <td>26.971155</td>\n      <td>0.020448</td>\n      <td>0.057251</td>\n      <td>10.262464</td>\n      <td>25.393030</td>\n      <td>0.019518</td>\n      <td>0.144531</td>\n      <td>2.396369</td>\n      <td>23.658655</td>\n      <td>0.018327</td>\n      <td>0.153259</td>\n      <td>2.800717</td>\n      <td>0</td>\n      <td>0</td>\n      <td>1</td>\n    </tr>\n    <tr>\n      <th>48046</th>\n      <td>2020-06-26 23:00:00</td>\n      <td>1041.6240</td>\n      <td>26.867487</td>\n      <td>0.020464</td>\n      <td>0.064178</td>\n      <td>10.326567</td>\n      <td>25.258112</td>\n      <td>0.019403</td>\n      <td>0.108063</td>\n      <td>2.720871</td>\n      <td>23.601862</td>\n      <td>0.018358</td>\n      <td>0.152771</td>\n      <td>3.138132</td>\n      <td>0</td>\n      <td>0</td>\n      <td>1</td>\n    </tr>\n    <tr>\n      <th>48047</th>\n      <td>2020-06-27 00:00:00</td>\n      <td>1013.5683</td>\n      <td>26.750330</td>\n      <td>0.020441</td>\n      <td>0.063965</td>\n      <td>10.198346</td>\n      <td>25.125330</td>\n      <td>0.019281</td>\n      <td>0.100189</td>\n      <td>2.785751</td>\n      <td>23.562830</td>\n      <td>0.018404</td>\n      <td>0.162598</td>\n      <td>3.286878</td>\n      <td>0</td>\n      <td>0</td>\n      <td>1</td>\n    </tr>\n  </tbody>\n</table>\n<p>48048 rows × 17 columns</p>\n</div>"
     },
     "execution_count": 204,
     "metadata": {},
     "output_type": "execute_result"
    }
   ],
   "source": [
    "# This dataset contains the feature variables and dependent variable datetime.\n",
    "df"
   ],
   "metadata": {
    "collapsed": false
   }
  },
  {
   "cell_type": "code",
   "execution_count": 205,
   "outputs": [
    {
     "data": {
      "text/plain": "              datetime  load_forecast\n0        1/2/2016 0:00         1056.9\n1        1/2/2016 1:00         1057.1\n2        1/2/2016 2:00          996.5\n3        1/2/2016 3:00          955.8\n4        1/2/2016 4:00          918.0\n...                ...            ...\n40147  7/31/2020 19:00         1181.4\n40148  7/31/2020 20:00         1196.8\n40149  7/31/2020 21:00         1163.3\n40150  7/31/2020 22:00         1136.0\n40151  7/31/2020 23:00         1297.2\n\n[40152 rows x 2 columns]",
      "text/html": "<div>\n<style scoped>\n    .dataframe tbody tr th:only-of-type {\n        vertical-align: middle;\n    }\n\n    .dataframe tbody tr th {\n        vertical-align: top;\n    }\n\n    .dataframe thead th {\n        text-align: right;\n    }\n</style>\n<table border=\"1\" class=\"dataframe\">\n  <thead>\n    <tr style=\"text-align: right;\">\n      <th></th>\n      <th>datetime</th>\n      <th>load_forecast</th>\n    </tr>\n  </thead>\n  <tbody>\n    <tr>\n      <th>0</th>\n      <td>1/2/2016 0:00</td>\n      <td>1056.9</td>\n    </tr>\n    <tr>\n      <th>1</th>\n      <td>1/2/2016 1:00</td>\n      <td>1057.1</td>\n    </tr>\n    <tr>\n      <th>2</th>\n      <td>1/2/2016 2:00</td>\n      <td>996.5</td>\n    </tr>\n    <tr>\n      <th>3</th>\n      <td>1/2/2016 3:00</td>\n      <td>955.8</td>\n    </tr>\n    <tr>\n      <th>4</th>\n      <td>1/2/2016 4:00</td>\n      <td>918.0</td>\n    </tr>\n    <tr>\n      <th>...</th>\n      <td>...</td>\n      <td>...</td>\n    </tr>\n    <tr>\n      <th>40147</th>\n      <td>7/31/2020 19:00</td>\n      <td>1181.4</td>\n    </tr>\n    <tr>\n      <th>40148</th>\n      <td>7/31/2020 20:00</td>\n      <td>1196.8</td>\n    </tr>\n    <tr>\n      <th>40149</th>\n      <td>7/31/2020 21:00</td>\n      <td>1163.3</td>\n    </tr>\n    <tr>\n      <th>40150</th>\n      <td>7/31/2020 22:00</td>\n      <td>1136.0</td>\n    </tr>\n    <tr>\n      <th>40151</th>\n      <td>7/31/2020 23:00</td>\n      <td>1297.2</td>\n    </tr>\n  </tbody>\n</table>\n<p>40152 rows × 2 columns</p>\n</div>"
     },
     "execution_count": 205,
     "metadata": {},
     "output_type": "execute_result"
    }
   ],
   "source": [
    "# Load forecast in the pre dispatch reports is the prediction made by the grid operator.\n",
    "# This is not a feature for our model but could be compared with our predictions as an exploratory activity.\n",
    "df_forecast_pre_dispatch"
   ],
   "metadata": {
    "collapsed": false
   }
  },
  {
   "cell_type": "code",
   "execution_count": 206,
   "outputs": [
    {
     "data": {
      "text/plain": "         nat_demand       T2M_toc      QV2M_toc       TQL_toc       W2M_toc  \\\ncount  48048.000000  48048.000000  48048.000000  48048.000000  48048.000000   \nmean    1182.868647     27.399111      0.018313      0.079979     13.391049   \nstd      192.068896      1.675462      0.001607      0.065589      7.295502   \nmin       85.192500     22.953455      0.012054      0.000000      0.008979   \n25%     1020.056900     26.160455      0.017236      0.026451      7.544958   \n50%     1168.427700     27.118051      0.018590      0.065201     12.182103   \n75%     1327.563950     28.558344      0.019521      0.117310     18.661282   \nmax     1754.882000     35.039575      0.022690      0.521240     39.229726   \n\n            T2M_san      QV2M_san       TQL_san       W2M_san       T2M_dav  \\\ncount  48048.000000  48048.000000  48048.000000  48048.000000  48048.000000   \nmean      26.921023      0.017844      0.106265      7.046675     24.719513   \nstd        3.018129      0.001889      0.086293      4.103711      2.414019   \nmin       19.765222      0.010247      0.000009      0.060394     19.933740   \n25%       24.769281      0.016584      0.036819      3.955051     22.954652   \n50%       26.167352      0.018351      0.085968      5.992762     24.001718   \n75%       28.712335      0.019242      0.157288      9.409871     26.243402   \nmax       39.063440      0.022165      0.484985     24.483937     34.216211   \n\n           QV2M_dav       TQL_dav       W2M_dav    Holiday_ID       holiday  \\\ncount  48048.000000  48048.000000  48048.000000  48048.000000  48048.000000   \nmean       0.016867      0.144681      3.567589      0.704795      0.062937   \nstd        0.001584      0.087899      1.710522      3.147470      0.242852   \nmin        0.009655      0.000032      0.015497      0.000000      0.000000   \n25%        0.015800      0.075775      2.298887      0.000000      0.000000   \n50%        0.017167      0.130188      3.413994      0.000000      0.000000   \n75%        0.018067      0.200012      4.670628      0.000000      0.000000   \nmax        0.021066      0.477783     10.288902     22.000000      1.000000   \n\n             school  \ncount  48048.000000  \nmean       0.727793  \nstd        0.445100  \nmin        0.000000  \n25%        0.000000  \n50%        1.000000  \n75%        1.000000  \nmax        1.000000  ",
      "text/html": "<div>\n<style scoped>\n    .dataframe tbody tr th:only-of-type {\n        vertical-align: middle;\n    }\n\n    .dataframe tbody tr th {\n        vertical-align: top;\n    }\n\n    .dataframe thead th {\n        text-align: right;\n    }\n</style>\n<table border=\"1\" class=\"dataframe\">\n  <thead>\n    <tr style=\"text-align: right;\">\n      <th></th>\n      <th>nat_demand</th>\n      <th>T2M_toc</th>\n      <th>QV2M_toc</th>\n      <th>TQL_toc</th>\n      <th>W2M_toc</th>\n      <th>T2M_san</th>\n      <th>QV2M_san</th>\n      <th>TQL_san</th>\n      <th>W2M_san</th>\n      <th>T2M_dav</th>\n      <th>QV2M_dav</th>\n      <th>TQL_dav</th>\n      <th>W2M_dav</th>\n      <th>Holiday_ID</th>\n      <th>holiday</th>\n      <th>school</th>\n    </tr>\n  </thead>\n  <tbody>\n    <tr>\n      <th>count</th>\n      <td>48048.000000</td>\n      <td>48048.000000</td>\n      <td>48048.000000</td>\n      <td>48048.000000</td>\n      <td>48048.000000</td>\n      <td>48048.000000</td>\n      <td>48048.000000</td>\n      <td>48048.000000</td>\n      <td>48048.000000</td>\n      <td>48048.000000</td>\n      <td>48048.000000</td>\n      <td>48048.000000</td>\n      <td>48048.000000</td>\n      <td>48048.000000</td>\n      <td>48048.000000</td>\n      <td>48048.000000</td>\n    </tr>\n    <tr>\n      <th>mean</th>\n      <td>1182.868647</td>\n      <td>27.399111</td>\n      <td>0.018313</td>\n      <td>0.079979</td>\n      <td>13.391049</td>\n      <td>26.921023</td>\n      <td>0.017844</td>\n      <td>0.106265</td>\n      <td>7.046675</td>\n      <td>24.719513</td>\n      <td>0.016867</td>\n      <td>0.144681</td>\n      <td>3.567589</td>\n      <td>0.704795</td>\n      <td>0.062937</td>\n      <td>0.727793</td>\n    </tr>\n    <tr>\n      <th>std</th>\n      <td>192.068896</td>\n      <td>1.675462</td>\n      <td>0.001607</td>\n      <td>0.065589</td>\n      <td>7.295502</td>\n      <td>3.018129</td>\n      <td>0.001889</td>\n      <td>0.086293</td>\n      <td>4.103711</td>\n      <td>2.414019</td>\n      <td>0.001584</td>\n      <td>0.087899</td>\n      <td>1.710522</td>\n      <td>3.147470</td>\n      <td>0.242852</td>\n      <td>0.445100</td>\n    </tr>\n    <tr>\n      <th>min</th>\n      <td>85.192500</td>\n      <td>22.953455</td>\n      <td>0.012054</td>\n      <td>0.000000</td>\n      <td>0.008979</td>\n      <td>19.765222</td>\n      <td>0.010247</td>\n      <td>0.000009</td>\n      <td>0.060394</td>\n      <td>19.933740</td>\n      <td>0.009655</td>\n      <td>0.000032</td>\n      <td>0.015497</td>\n      <td>0.000000</td>\n      <td>0.000000</td>\n      <td>0.000000</td>\n    </tr>\n    <tr>\n      <th>25%</th>\n      <td>1020.056900</td>\n      <td>26.160455</td>\n      <td>0.017236</td>\n      <td>0.026451</td>\n      <td>7.544958</td>\n      <td>24.769281</td>\n      <td>0.016584</td>\n      <td>0.036819</td>\n      <td>3.955051</td>\n      <td>22.954652</td>\n      <td>0.015800</td>\n      <td>0.075775</td>\n      <td>2.298887</td>\n      <td>0.000000</td>\n      <td>0.000000</td>\n      <td>0.000000</td>\n    </tr>\n    <tr>\n      <th>50%</th>\n      <td>1168.427700</td>\n      <td>27.118051</td>\n      <td>0.018590</td>\n      <td>0.065201</td>\n      <td>12.182103</td>\n      <td>26.167352</td>\n      <td>0.018351</td>\n      <td>0.085968</td>\n      <td>5.992762</td>\n      <td>24.001718</td>\n      <td>0.017167</td>\n      <td>0.130188</td>\n      <td>3.413994</td>\n      <td>0.000000</td>\n      <td>0.000000</td>\n      <td>1.000000</td>\n    </tr>\n    <tr>\n      <th>75%</th>\n      <td>1327.563950</td>\n      <td>28.558344</td>\n      <td>0.019521</td>\n      <td>0.117310</td>\n      <td>18.661282</td>\n      <td>28.712335</td>\n      <td>0.019242</td>\n      <td>0.157288</td>\n      <td>9.409871</td>\n      <td>26.243402</td>\n      <td>0.018067</td>\n      <td>0.200012</td>\n      <td>4.670628</td>\n      <td>0.000000</td>\n      <td>0.000000</td>\n      <td>1.000000</td>\n    </tr>\n    <tr>\n      <th>max</th>\n      <td>1754.882000</td>\n      <td>35.039575</td>\n      <td>0.022690</td>\n      <td>0.521240</td>\n      <td>39.229726</td>\n      <td>39.063440</td>\n      <td>0.022165</td>\n      <td>0.484985</td>\n      <td>24.483937</td>\n      <td>34.216211</td>\n      <td>0.021066</td>\n      <td>0.477783</td>\n      <td>10.288902</td>\n      <td>22.000000</td>\n      <td>1.000000</td>\n      <td>1.000000</td>\n    </tr>\n  </tbody>\n</table>\n</div>"
     },
     "execution_count": 206,
     "metadata": {},
     "output_type": "execute_result"
    }
   ],
   "source": [
    "df.describe()"
   ],
   "metadata": {
    "collapsed": false
   }
  },
  {
   "cell_type": "code",
   "execution_count": 207,
   "outputs": [
    {
     "data": {
      "text/plain": "datetime      0\nnat_demand    0\nT2M_toc       0\nQV2M_toc      0\nTQL_toc       0\nW2M_toc       0\nT2M_san       0\nQV2M_san      0\nTQL_san       0\nW2M_san       0\nT2M_dav       0\nQV2M_dav      0\nTQL_dav       0\nW2M_dav       0\nHoliday_ID    0\nholiday       0\nschool        0\ndtype: int64"
     },
     "execution_count": 207,
     "metadata": {},
     "output_type": "execute_result"
    }
   ],
   "source": [
    "# Checking if there are missing values. None found.\n",
    "df.isna().sum()"
   ],
   "metadata": {
    "collapsed": false
   }
  },
  {
   "cell_type": "code",
   "execution_count": 208,
   "outputs": [
    {
     "data": {
      "text/plain": "                  datetime  nat_demand    t2m_toc  qv2m_toc   tql_toc  \\\n0      2015-01-03 01:00:00    970.3450  25.865259  0.018576  0.016174   \n1      2015-01-03 02:00:00    912.1755  25.899255  0.018653  0.016418   \n2      2015-01-03 03:00:00    900.2688  25.937280  0.018768  0.015480   \n3      2015-01-03 04:00:00    889.9538  25.957544  0.018890  0.016273   \n4      2015-01-03 05:00:00    893.6865  25.973840  0.018981  0.017281   \n...                    ...         ...        ...       ...       ...   \n48043  2020-06-26 20:00:00   1128.5592  27.246545  0.020303  0.055511   \n48044  2020-06-26 21:00:00   1112.7488  27.099573  0.020395  0.053848   \n48045  2020-06-26 22:00:00   1081.5680  26.971155  0.020448  0.057251   \n48046  2020-06-26 23:00:00   1041.6240  26.867487  0.020464  0.064178   \n48047  2020-06-27 00:00:00   1013.5683  26.750330  0.020441  0.063965   \n\n         w2m_toc    t2m_san  qv2m_san   tql_san    w2m_san    t2m_dav  \\\n0      21.850546  23.482446  0.017272  0.001855  10.328949  22.662134   \n1      22.166944  23.399255  0.017265  0.001327  10.681517  22.578943   \n2      22.454911  23.343530  0.017211  0.001428  10.874924  22.531030   \n3      22.110481  23.238794  0.017128  0.002599  10.518620  22.512231   \n4      21.186089  23.075403  0.017059  0.001729   9.733589  22.481653   \n...          ...        ...       ...       ...        ...        ...   \n48043   9.289304  25.715295  0.019746  0.121552   1.990773  23.746545   \n48044   9.837504  25.552698  0.019632  0.153870   2.094459  23.693323   \n48045  10.262464  25.393030  0.019518  0.144531   2.396369  23.658655   \n48046  10.326567  25.258112  0.019403  0.108063   2.720871  23.601862   \n48047  10.198346  25.125330  0.019281  0.100189   2.785751  23.562830   \n\n       qv2m_dav   tql_dav   w2m_dav  holiday_id  holiday  school  \n0      0.016562  0.096100  5.364148           0        0       0  \n1      0.016509  0.087646  5.572471           0        0       0  \n2      0.016479  0.078735  5.871184           0        0       0  \n3      0.016487  0.068390  5.883621           0        0       0  \n4      0.016456  0.064362  5.611724           0        0       0  \n...         ...       ...       ...         ...      ...     ...  \n48043  0.018381  0.150879  2.444658           0        0       1  \n48044  0.018320  0.156311  2.515814           0        0       1  \n48045  0.018327  0.153259  2.800717           0        0       1  \n48046  0.018358  0.152771  3.138132           0        0       1  \n48047  0.018404  0.162598  3.286878           0        0       1  \n\n[48048 rows x 17 columns]",
      "text/html": "<div>\n<style scoped>\n    .dataframe tbody tr th:only-of-type {\n        vertical-align: middle;\n    }\n\n    .dataframe tbody tr th {\n        vertical-align: top;\n    }\n\n    .dataframe thead th {\n        text-align: right;\n    }\n</style>\n<table border=\"1\" class=\"dataframe\">\n  <thead>\n    <tr style=\"text-align: right;\">\n      <th></th>\n      <th>datetime</th>\n      <th>nat_demand</th>\n      <th>t2m_toc</th>\n      <th>qv2m_toc</th>\n      <th>tql_toc</th>\n      <th>w2m_toc</th>\n      <th>t2m_san</th>\n      <th>qv2m_san</th>\n      <th>tql_san</th>\n      <th>w2m_san</th>\n      <th>t2m_dav</th>\n      <th>qv2m_dav</th>\n      <th>tql_dav</th>\n      <th>w2m_dav</th>\n      <th>holiday_id</th>\n      <th>holiday</th>\n      <th>school</th>\n    </tr>\n  </thead>\n  <tbody>\n    <tr>\n      <th>0</th>\n      <td>2015-01-03 01:00:00</td>\n      <td>970.3450</td>\n      <td>25.865259</td>\n      <td>0.018576</td>\n      <td>0.016174</td>\n      <td>21.850546</td>\n      <td>23.482446</td>\n      <td>0.017272</td>\n      <td>0.001855</td>\n      <td>10.328949</td>\n      <td>22.662134</td>\n      <td>0.016562</td>\n      <td>0.096100</td>\n      <td>5.364148</td>\n      <td>0</td>\n      <td>0</td>\n      <td>0</td>\n    </tr>\n    <tr>\n      <th>1</th>\n      <td>2015-01-03 02:00:00</td>\n      <td>912.1755</td>\n      <td>25.899255</td>\n      <td>0.018653</td>\n      <td>0.016418</td>\n      <td>22.166944</td>\n      <td>23.399255</td>\n      <td>0.017265</td>\n      <td>0.001327</td>\n      <td>10.681517</td>\n      <td>22.578943</td>\n      <td>0.016509</td>\n      <td>0.087646</td>\n      <td>5.572471</td>\n      <td>0</td>\n      <td>0</td>\n      <td>0</td>\n    </tr>\n    <tr>\n      <th>2</th>\n      <td>2015-01-03 03:00:00</td>\n      <td>900.2688</td>\n      <td>25.937280</td>\n      <td>0.018768</td>\n      <td>0.015480</td>\n      <td>22.454911</td>\n      <td>23.343530</td>\n      <td>0.017211</td>\n      <td>0.001428</td>\n      <td>10.874924</td>\n      <td>22.531030</td>\n      <td>0.016479</td>\n      <td>0.078735</td>\n      <td>5.871184</td>\n      <td>0</td>\n      <td>0</td>\n      <td>0</td>\n    </tr>\n    <tr>\n      <th>3</th>\n      <td>2015-01-03 04:00:00</td>\n      <td>889.9538</td>\n      <td>25.957544</td>\n      <td>0.018890</td>\n      <td>0.016273</td>\n      <td>22.110481</td>\n      <td>23.238794</td>\n      <td>0.017128</td>\n      <td>0.002599</td>\n      <td>10.518620</td>\n      <td>22.512231</td>\n      <td>0.016487</td>\n      <td>0.068390</td>\n      <td>5.883621</td>\n      <td>0</td>\n      <td>0</td>\n      <td>0</td>\n    </tr>\n    <tr>\n      <th>4</th>\n      <td>2015-01-03 05:00:00</td>\n      <td>893.6865</td>\n      <td>25.973840</td>\n      <td>0.018981</td>\n      <td>0.017281</td>\n      <td>21.186089</td>\n      <td>23.075403</td>\n      <td>0.017059</td>\n      <td>0.001729</td>\n      <td>9.733589</td>\n      <td>22.481653</td>\n      <td>0.016456</td>\n      <td>0.064362</td>\n      <td>5.611724</td>\n      <td>0</td>\n      <td>0</td>\n      <td>0</td>\n    </tr>\n    <tr>\n      <th>...</th>\n      <td>...</td>\n      <td>...</td>\n      <td>...</td>\n      <td>...</td>\n      <td>...</td>\n      <td>...</td>\n      <td>...</td>\n      <td>...</td>\n      <td>...</td>\n      <td>...</td>\n      <td>...</td>\n      <td>...</td>\n      <td>...</td>\n      <td>...</td>\n      <td>...</td>\n      <td>...</td>\n      <td>...</td>\n    </tr>\n    <tr>\n      <th>48043</th>\n      <td>2020-06-26 20:00:00</td>\n      <td>1128.5592</td>\n      <td>27.246545</td>\n      <td>0.020303</td>\n      <td>0.055511</td>\n      <td>9.289304</td>\n      <td>25.715295</td>\n      <td>0.019746</td>\n      <td>0.121552</td>\n      <td>1.990773</td>\n      <td>23.746545</td>\n      <td>0.018381</td>\n      <td>0.150879</td>\n      <td>2.444658</td>\n      <td>0</td>\n      <td>0</td>\n      <td>1</td>\n    </tr>\n    <tr>\n      <th>48044</th>\n      <td>2020-06-26 21:00:00</td>\n      <td>1112.7488</td>\n      <td>27.099573</td>\n      <td>0.020395</td>\n      <td>0.053848</td>\n      <td>9.837504</td>\n      <td>25.552698</td>\n      <td>0.019632</td>\n      <td>0.153870</td>\n      <td>2.094459</td>\n      <td>23.693323</td>\n      <td>0.018320</td>\n      <td>0.156311</td>\n      <td>2.515814</td>\n      <td>0</td>\n      <td>0</td>\n      <td>1</td>\n    </tr>\n    <tr>\n      <th>48045</th>\n      <td>2020-06-26 22:00:00</td>\n      <td>1081.5680</td>\n      <td>26.971155</td>\n      <td>0.020448</td>\n      <td>0.057251</td>\n      <td>10.262464</td>\n      <td>25.393030</td>\n      <td>0.019518</td>\n      <td>0.144531</td>\n      <td>2.396369</td>\n      <td>23.658655</td>\n      <td>0.018327</td>\n      <td>0.153259</td>\n      <td>2.800717</td>\n      <td>0</td>\n      <td>0</td>\n      <td>1</td>\n    </tr>\n    <tr>\n      <th>48046</th>\n      <td>2020-06-26 23:00:00</td>\n      <td>1041.6240</td>\n      <td>26.867487</td>\n      <td>0.020464</td>\n      <td>0.064178</td>\n      <td>10.326567</td>\n      <td>25.258112</td>\n      <td>0.019403</td>\n      <td>0.108063</td>\n      <td>2.720871</td>\n      <td>23.601862</td>\n      <td>0.018358</td>\n      <td>0.152771</td>\n      <td>3.138132</td>\n      <td>0</td>\n      <td>0</td>\n      <td>1</td>\n    </tr>\n    <tr>\n      <th>48047</th>\n      <td>2020-06-27 00:00:00</td>\n      <td>1013.5683</td>\n      <td>26.750330</td>\n      <td>0.020441</td>\n      <td>0.063965</td>\n      <td>10.198346</td>\n      <td>25.125330</td>\n      <td>0.019281</td>\n      <td>0.100189</td>\n      <td>2.785751</td>\n      <td>23.562830</td>\n      <td>0.018404</td>\n      <td>0.162598</td>\n      <td>3.286878</td>\n      <td>0</td>\n      <td>0</td>\n      <td>1</td>\n    </tr>\n  </tbody>\n</table>\n<p>48048 rows × 17 columns</p>\n</div>"
     },
     "execution_count": 208,
     "metadata": {},
     "output_type": "execute_result"
    }
   ],
   "source": [
    "# Making columns lower case for better readability.\n",
    "df.columns = df.columns.str.lower()\n",
    "df"
   ],
   "metadata": {
    "collapsed": false
   }
  },
  {
   "cell_type": "code",
   "execution_count": 209,
   "outputs": [
    {
     "data": {
      "text/plain": "datetime       object\nnat_demand    float64\nt2m_toc       float64\nqv2m_toc      float64\ntql_toc       float64\nw2m_toc       float64\nt2m_san       float64\nqv2m_san      float64\ntql_san       float64\nw2m_san       float64\nt2m_dav       float64\nqv2m_dav      float64\ntql_dav       float64\nw2m_dav       float64\nholiday_id      int64\nholiday         int64\nschool          int64\ndtype: object"
     },
     "execution_count": 209,
     "metadata": {},
     "output_type": "execute_result"
    }
   ],
   "source": [
    "# Check the data types of the variables\n",
    "df.dtypes"
   ],
   "metadata": {
    "collapsed": false
   }
  },
  {
   "cell_type": "code",
   "execution_count": 210,
   "outputs": [
    {
     "data": {
      "text/plain": "1    34969\n0    13079\nName: school, dtype: int64"
     },
     "execution_count": 210,
     "metadata": {},
     "output_type": "execute_result"
    }
   ],
   "source": [
    "# Checking if variable `school` has non-boolean values\n",
    "df.school.value_counts()"
   ],
   "metadata": {
    "collapsed": false
   }
  },
  {
   "cell_type": "code",
   "execution_count": 211,
   "outputs": [
    {
     "data": {
      "text/plain": "0    45024\n1     3024\nName: holiday, dtype: int64"
     },
     "execution_count": 211,
     "metadata": {},
     "output_type": "execute_result"
    }
   ],
   "source": [
    "# Checking if variable `holiday` has non-boolean values\n",
    "df.holiday.value_counts()"
   ],
   "metadata": {
    "collapsed": false
   }
  },
  {
   "cell_type": "markdown",
   "source": [
    "Checking if 0's in `holiday_id` matches the number of holidays based on `holiday`."
   ],
   "metadata": {
    "collapsed": false
   }
  },
  {
   "cell_type": "code",
   "execution_count": 212,
   "outputs": [],
   "source": [
    "assert df.holiday_id.value_counts()[0] == df.holiday.value_counts()[0]"
   ],
   "metadata": {
    "collapsed": false
   }
  },
  {
   "cell_type": "code",
   "execution_count": 213,
   "outputs": [],
   "source": [
    "# datetime is a string. Splitting it to multiple columns will make plotting easier.\n",
    "# Therefore, creating a new variable called `dt` of type pd.datetime by converting the values from `df.datetime`.\n",
    "df['dt'] = pd.to_datetime(df.datetime, format='%Y-%m-%d %H:%M:%S', errors='coerce')\n",
    "\n",
    "# Checking if there are datetime conversion errors.\n",
    "assert df.dt.isnull().sum() == 0\n",
    "\n",
    "# delete datetime from the dataframe as dt supersedes it now.\n",
    "del df['datetime']"
   ],
   "metadata": {
    "collapsed": false
   }
  },
  {
   "cell_type": "code",
   "execution_count": 214,
   "outputs": [
    {
     "data": {
      "text/plain": "       nat_demand    t2m_toc  qv2m_toc   tql_toc    w2m_toc    t2m_san  \\\n0        970.3450  25.865259  0.018576  0.016174  21.850546  23.482446   \n1        912.1755  25.899255  0.018653  0.016418  22.166944  23.399255   \n2        900.2688  25.937280  0.018768  0.015480  22.454911  23.343530   \n3        889.9538  25.957544  0.018890  0.016273  22.110481  23.238794   \n4        893.6865  25.973840  0.018981  0.017281  21.186089  23.075403   \n...           ...        ...       ...       ...        ...        ...   \n48043   1128.5592  27.246545  0.020303  0.055511   9.289304  25.715295   \n48044   1112.7488  27.099573  0.020395  0.053848   9.837504  25.552698   \n48045   1081.5680  26.971155  0.020448  0.057251  10.262464  25.393030   \n48046   1041.6240  26.867487  0.020464  0.064178  10.326567  25.258112   \n48047   1013.5683  26.750330  0.020441  0.063965  10.198346  25.125330   \n\n       qv2m_san   tql_san    w2m_san    t2m_dav  qv2m_dav   tql_dav   w2m_dav  \\\n0      0.017272  0.001855  10.328949  22.662134  0.016562  0.096100  5.364148   \n1      0.017265  0.001327  10.681517  22.578943  0.016509  0.087646  5.572471   \n2      0.017211  0.001428  10.874924  22.531030  0.016479  0.078735  5.871184   \n3      0.017128  0.002599  10.518620  22.512231  0.016487  0.068390  5.883621   \n4      0.017059  0.001729   9.733589  22.481653  0.016456  0.064362  5.611724   \n...         ...       ...        ...        ...       ...       ...       ...   \n48043  0.019746  0.121552   1.990773  23.746545  0.018381  0.150879  2.444658   \n48044  0.019632  0.153870   2.094459  23.693323  0.018320  0.156311  2.515814   \n48045  0.019518  0.144531   2.396369  23.658655  0.018327  0.153259  2.800717   \n48046  0.019403  0.108063   2.720871  23.601862  0.018358  0.152771  3.138132   \n48047  0.019281  0.100189   2.785751  23.562830  0.018404  0.162598  3.286878   \n\n       holiday_id  holiday  school                  dt  \n0               0        0       0 2015-01-03 01:00:00  \n1               0        0       0 2015-01-03 02:00:00  \n2               0        0       0 2015-01-03 03:00:00  \n3               0        0       0 2015-01-03 04:00:00  \n4               0        0       0 2015-01-03 05:00:00  \n...           ...      ...     ...                 ...  \n48043           0        0       1 2020-06-26 20:00:00  \n48044           0        0       1 2020-06-26 21:00:00  \n48045           0        0       1 2020-06-26 22:00:00  \n48046           0        0       1 2020-06-26 23:00:00  \n48047           0        0       1 2020-06-27 00:00:00  \n\n[48048 rows x 17 columns]",
      "text/html": "<div>\n<style scoped>\n    .dataframe tbody tr th:only-of-type {\n        vertical-align: middle;\n    }\n\n    .dataframe tbody tr th {\n        vertical-align: top;\n    }\n\n    .dataframe thead th {\n        text-align: right;\n    }\n</style>\n<table border=\"1\" class=\"dataframe\">\n  <thead>\n    <tr style=\"text-align: right;\">\n      <th></th>\n      <th>nat_demand</th>\n      <th>t2m_toc</th>\n      <th>qv2m_toc</th>\n      <th>tql_toc</th>\n      <th>w2m_toc</th>\n      <th>t2m_san</th>\n      <th>qv2m_san</th>\n      <th>tql_san</th>\n      <th>w2m_san</th>\n      <th>t2m_dav</th>\n      <th>qv2m_dav</th>\n      <th>tql_dav</th>\n      <th>w2m_dav</th>\n      <th>holiday_id</th>\n      <th>holiday</th>\n      <th>school</th>\n      <th>dt</th>\n    </tr>\n  </thead>\n  <tbody>\n    <tr>\n      <th>0</th>\n      <td>970.3450</td>\n      <td>25.865259</td>\n      <td>0.018576</td>\n      <td>0.016174</td>\n      <td>21.850546</td>\n      <td>23.482446</td>\n      <td>0.017272</td>\n      <td>0.001855</td>\n      <td>10.328949</td>\n      <td>22.662134</td>\n      <td>0.016562</td>\n      <td>0.096100</td>\n      <td>5.364148</td>\n      <td>0</td>\n      <td>0</td>\n      <td>0</td>\n      <td>2015-01-03 01:00:00</td>\n    </tr>\n    <tr>\n      <th>1</th>\n      <td>912.1755</td>\n      <td>25.899255</td>\n      <td>0.018653</td>\n      <td>0.016418</td>\n      <td>22.166944</td>\n      <td>23.399255</td>\n      <td>0.017265</td>\n      <td>0.001327</td>\n      <td>10.681517</td>\n      <td>22.578943</td>\n      <td>0.016509</td>\n      <td>0.087646</td>\n      <td>5.572471</td>\n      <td>0</td>\n      <td>0</td>\n      <td>0</td>\n      <td>2015-01-03 02:00:00</td>\n    </tr>\n    <tr>\n      <th>2</th>\n      <td>900.2688</td>\n      <td>25.937280</td>\n      <td>0.018768</td>\n      <td>0.015480</td>\n      <td>22.454911</td>\n      <td>23.343530</td>\n      <td>0.017211</td>\n      <td>0.001428</td>\n      <td>10.874924</td>\n      <td>22.531030</td>\n      <td>0.016479</td>\n      <td>0.078735</td>\n      <td>5.871184</td>\n      <td>0</td>\n      <td>0</td>\n      <td>0</td>\n      <td>2015-01-03 03:00:00</td>\n    </tr>\n    <tr>\n      <th>3</th>\n      <td>889.9538</td>\n      <td>25.957544</td>\n      <td>0.018890</td>\n      <td>0.016273</td>\n      <td>22.110481</td>\n      <td>23.238794</td>\n      <td>0.017128</td>\n      <td>0.002599</td>\n      <td>10.518620</td>\n      <td>22.512231</td>\n      <td>0.016487</td>\n      <td>0.068390</td>\n      <td>5.883621</td>\n      <td>0</td>\n      <td>0</td>\n      <td>0</td>\n      <td>2015-01-03 04:00:00</td>\n    </tr>\n    <tr>\n      <th>4</th>\n      <td>893.6865</td>\n      <td>25.973840</td>\n      <td>0.018981</td>\n      <td>0.017281</td>\n      <td>21.186089</td>\n      <td>23.075403</td>\n      <td>0.017059</td>\n      <td>0.001729</td>\n      <td>9.733589</td>\n      <td>22.481653</td>\n      <td>0.016456</td>\n      <td>0.064362</td>\n      <td>5.611724</td>\n      <td>0</td>\n      <td>0</td>\n      <td>0</td>\n      <td>2015-01-03 05:00:00</td>\n    </tr>\n    <tr>\n      <th>...</th>\n      <td>...</td>\n      <td>...</td>\n      <td>...</td>\n      <td>...</td>\n      <td>...</td>\n      <td>...</td>\n      <td>...</td>\n      <td>...</td>\n      <td>...</td>\n      <td>...</td>\n      <td>...</td>\n      <td>...</td>\n      <td>...</td>\n      <td>...</td>\n      <td>...</td>\n      <td>...</td>\n      <td>...</td>\n    </tr>\n    <tr>\n      <th>48043</th>\n      <td>1128.5592</td>\n      <td>27.246545</td>\n      <td>0.020303</td>\n      <td>0.055511</td>\n      <td>9.289304</td>\n      <td>25.715295</td>\n      <td>0.019746</td>\n      <td>0.121552</td>\n      <td>1.990773</td>\n      <td>23.746545</td>\n      <td>0.018381</td>\n      <td>0.150879</td>\n      <td>2.444658</td>\n      <td>0</td>\n      <td>0</td>\n      <td>1</td>\n      <td>2020-06-26 20:00:00</td>\n    </tr>\n    <tr>\n      <th>48044</th>\n      <td>1112.7488</td>\n      <td>27.099573</td>\n      <td>0.020395</td>\n      <td>0.053848</td>\n      <td>9.837504</td>\n      <td>25.552698</td>\n      <td>0.019632</td>\n      <td>0.153870</td>\n      <td>2.094459</td>\n      <td>23.693323</td>\n      <td>0.018320</td>\n      <td>0.156311</td>\n      <td>2.515814</td>\n      <td>0</td>\n      <td>0</td>\n      <td>1</td>\n      <td>2020-06-26 21:00:00</td>\n    </tr>\n    <tr>\n      <th>48045</th>\n      <td>1081.5680</td>\n      <td>26.971155</td>\n      <td>0.020448</td>\n      <td>0.057251</td>\n      <td>10.262464</td>\n      <td>25.393030</td>\n      <td>0.019518</td>\n      <td>0.144531</td>\n      <td>2.396369</td>\n      <td>23.658655</td>\n      <td>0.018327</td>\n      <td>0.153259</td>\n      <td>2.800717</td>\n      <td>0</td>\n      <td>0</td>\n      <td>1</td>\n      <td>2020-06-26 22:00:00</td>\n    </tr>\n    <tr>\n      <th>48046</th>\n      <td>1041.6240</td>\n      <td>26.867487</td>\n      <td>0.020464</td>\n      <td>0.064178</td>\n      <td>10.326567</td>\n      <td>25.258112</td>\n      <td>0.019403</td>\n      <td>0.108063</td>\n      <td>2.720871</td>\n      <td>23.601862</td>\n      <td>0.018358</td>\n      <td>0.152771</td>\n      <td>3.138132</td>\n      <td>0</td>\n      <td>0</td>\n      <td>1</td>\n      <td>2020-06-26 23:00:00</td>\n    </tr>\n    <tr>\n      <th>48047</th>\n      <td>1013.5683</td>\n      <td>26.750330</td>\n      <td>0.020441</td>\n      <td>0.063965</td>\n      <td>10.198346</td>\n      <td>25.125330</td>\n      <td>0.019281</td>\n      <td>0.100189</td>\n      <td>2.785751</td>\n      <td>23.562830</td>\n      <td>0.018404</td>\n      <td>0.162598</td>\n      <td>3.286878</td>\n      <td>0</td>\n      <td>0</td>\n      <td>1</td>\n      <td>2020-06-27 00:00:00</td>\n    </tr>\n  </tbody>\n</table>\n<p>48048 rows × 17 columns</p>\n</div>"
     },
     "execution_count": 214,
     "metadata": {},
     "output_type": "execute_result"
    }
   ],
   "source": [
    "df"
   ],
   "metadata": {
    "collapsed": false
   }
  },
  {
   "cell_type": "code",
   "execution_count": 215,
   "outputs": [],
   "source": [
    "df['dt_year'] = df['dt'].dt.year\n",
    "df['dt_month'] = df['dt'].dt.month\n",
    "df['dt_day'] = df['dt'].dt.day\n",
    "df['dt_hour'] = df['dt'].dt.hour\n",
    "\n",
    "# No need to separate minute and second values as they are always 0. Verified and confirmed.\n",
    "# df['dt_minute'] = df.datetime.dt.minute\n",
    "# df['dt_second'] = df.datetime.dt.second\n"
   ],
   "metadata": {
    "collapsed": false
   }
  },
  {
   "cell_type": "code",
   "execution_count": 216,
   "outputs": [
    {
     "data": {
      "text/plain": "                       dt  dt_year  dt_month  dt_day  dt_hour\n0     2015-01-03 01:00:00     2015         1       3        1\n100   2015-01-07 05:00:00     2015         1       7        5\n200   2015-01-11 09:00:00     2015         1      11        9\n300   2015-01-15 13:00:00     2015         1      15       13\n400   2015-01-19 17:00:00     2015         1      19       17\n...                   ...      ...       ...     ...      ...\n47600 2020-06-08 09:00:00     2020         6       8        9\n47700 2020-06-12 13:00:00     2020         6      12       13\n47800 2020-06-16 17:00:00     2020         6      16       17\n47900 2020-06-20 21:00:00     2020         6      20       21\n48000 2020-06-25 01:00:00     2020         6      25        1\n\n[481 rows x 5 columns]",
      "text/html": "<div>\n<style scoped>\n    .dataframe tbody tr th:only-of-type {\n        vertical-align: middle;\n    }\n\n    .dataframe tbody tr th {\n        vertical-align: top;\n    }\n\n    .dataframe thead th {\n        text-align: right;\n    }\n</style>\n<table border=\"1\" class=\"dataframe\">\n  <thead>\n    <tr style=\"text-align: right;\">\n      <th></th>\n      <th>dt</th>\n      <th>dt_year</th>\n      <th>dt_month</th>\n      <th>dt_day</th>\n      <th>dt_hour</th>\n    </tr>\n  </thead>\n  <tbody>\n    <tr>\n      <th>0</th>\n      <td>2015-01-03 01:00:00</td>\n      <td>2015</td>\n      <td>1</td>\n      <td>3</td>\n      <td>1</td>\n    </tr>\n    <tr>\n      <th>100</th>\n      <td>2015-01-07 05:00:00</td>\n      <td>2015</td>\n      <td>1</td>\n      <td>7</td>\n      <td>5</td>\n    </tr>\n    <tr>\n      <th>200</th>\n      <td>2015-01-11 09:00:00</td>\n      <td>2015</td>\n      <td>1</td>\n      <td>11</td>\n      <td>9</td>\n    </tr>\n    <tr>\n      <th>300</th>\n      <td>2015-01-15 13:00:00</td>\n      <td>2015</td>\n      <td>1</td>\n      <td>15</td>\n      <td>13</td>\n    </tr>\n    <tr>\n      <th>400</th>\n      <td>2015-01-19 17:00:00</td>\n      <td>2015</td>\n      <td>1</td>\n      <td>19</td>\n      <td>17</td>\n    </tr>\n    <tr>\n      <th>...</th>\n      <td>...</td>\n      <td>...</td>\n      <td>...</td>\n      <td>...</td>\n      <td>...</td>\n    </tr>\n    <tr>\n      <th>47600</th>\n      <td>2020-06-08 09:00:00</td>\n      <td>2020</td>\n      <td>6</td>\n      <td>8</td>\n      <td>9</td>\n    </tr>\n    <tr>\n      <th>47700</th>\n      <td>2020-06-12 13:00:00</td>\n      <td>2020</td>\n      <td>6</td>\n      <td>12</td>\n      <td>13</td>\n    </tr>\n    <tr>\n      <th>47800</th>\n      <td>2020-06-16 17:00:00</td>\n      <td>2020</td>\n      <td>6</td>\n      <td>16</td>\n      <td>17</td>\n    </tr>\n    <tr>\n      <th>47900</th>\n      <td>2020-06-20 21:00:00</td>\n      <td>2020</td>\n      <td>6</td>\n      <td>20</td>\n      <td>21</td>\n    </tr>\n    <tr>\n      <th>48000</th>\n      <td>2020-06-25 01:00:00</td>\n      <td>2020</td>\n      <td>6</td>\n      <td>25</td>\n      <td>1</td>\n    </tr>\n  </tbody>\n</table>\n<p>481 rows × 5 columns</p>\n</div>"
     },
     "execution_count": 216,
     "metadata": {},
     "output_type": "execute_result"
    }
   ],
   "source": [
    "# Visually check all dt variables that they've been split correctly from a semantic viewpoint.\n",
    "# Programmatic check was done above by checking for conversion errors.\n",
    "df[df.columns[df.columns.str.match('^dt.*')]][::100]"
   ],
   "metadata": {
    "collapsed": false
   }
  },
  {
   "cell_type": "code",
   "execution_count": 217,
   "outputs": [
    {
     "data": {
      "text/plain": "dt_year  dt_month\n2015     1           695\n         2           672\n         3           744\n         4           720\n         5           744\n                    ... \n2020     2           696\n         3           744\n         4           720\n         5           744\n         6           625\nLength: 66, dtype: int64"
     },
     "execution_count": 217,
     "metadata": {},
     "output_type": "execute_result"
    }
   ],
   "source": [
    "df.groupby(by=['dt_year', 'dt_month']).size()"
   ],
   "metadata": {
    "collapsed": false
   }
  },
  {
   "cell_type": "code",
   "execution_count": 218,
   "outputs": [],
   "source": [
    "# df[['t2m_toc', 't2m_san', 't2m_dav', 'dt_year', 'dt_month']].groupby(by=['dt_year', 'dt_month'], group_keys=True).max().plot().bar()"
   ],
   "metadata": {
    "collapsed": false
   }
  },
  {
   "cell_type": "code",
   "execution_count": 219,
   "outputs": [
    {
     "data": {
      "text/plain": "nat_demand           float64\nt2m_toc              float64\nqv2m_toc             float64\ntql_toc              float64\nw2m_toc              float64\nt2m_san              float64\nqv2m_san             float64\ntql_san              float64\nw2m_san              float64\nt2m_dav              float64\nqv2m_dav             float64\ntql_dav              float64\nw2m_dav              float64\nholiday_id             int64\nholiday                int64\nschool                 int64\ndt            datetime64[ns]\ndt_year                int64\ndt_month               int64\ndt_day                 int64\ndt_hour                int64\ndtype: object"
     },
     "execution_count": 219,
     "metadata": {},
     "output_type": "execute_result"
    }
   ],
   "source": [
    "# distribution of the target variable\n",
    "# %matplotlib inline\n",
    "# plt.figure(figsize=(10,10))\n",
    "# sns.histplot(df.nat_demand)\n",
    "# sns.histplot(y_pred, color='red', bins=50, alpha=0.5)\n",
    "\n",
    "df.dtypes"
   ],
   "metadata": {
    "collapsed": false
   }
  },
  {
   "cell_type": "code",
   "execution_count": 220,
   "outputs": [
    {
     "data": {
      "text/plain": "0         970.3450\n1         912.1755\n2         900.2688\n3         889.9538\n4         893.6865\n           ...    \n48043    1128.5592\n48044    1112.7488\n48045    1081.5680\n48046    1041.6240\n48047    1013.5683\nName: nat_demand, Length: 48048, dtype: float64"
     },
     "execution_count": 220,
     "metadata": {},
     "output_type": "execute_result"
    }
   ],
   "source": [
    "df.nat_demand"
   ],
   "metadata": {
    "collapsed": false
   }
  },
  {
   "cell_type": "code",
   "execution_count": 221,
   "outputs": [
    {
     "data": {
      "text/plain": "<AxesSubplot: xlabel='nat_demand', ylabel='Count'>"
     },
     "execution_count": 221,
     "metadata": {},
     "output_type": "execute_result"
    },
    {
     "data": {
      "text/plain": "<Figure size 640x480 with 1 Axes>",
      "image/png": "[encoded data removed]"
     },
     "metadata": {},
     "output_type": "display_data"
    }
   ],
   "source": [
    "sns.histplot(df.nat_demand, color='red', bins=50, alpha=0.5)"
   ],
   "metadata": {
    "collapsed": false
   }
  },
  {
   "cell_type": "code",
   "execution_count": 222,
   "outputs": [
    {
     "data": {
      "text/plain": "<AxesSubplot: xlabel='nat_demand', ylabel='Count'>"
     },
     "execution_count": 222,
     "metadata": {},
     "output_type": "execute_result"
    },
    {
     "data": {
      "text/plain": "<Figure size 640x480 with 1 Axes>",
      "image/png": "[encoded data removed]"
     },
     "metadata": {},
     "output_type": "display_data"
    }
   ],
   "source": [
    "# See the distribution of the log1p version of the target variable\n",
    "sns.histplot(np.log1p(df.nat_demand), color='red', bins=50, alpha=0.5)"
   ],
   "metadata": {
    "collapsed": false
   }
  },
  {
   "cell_type": "markdown",
   "source": [],
   "metadata": {
    "collapsed": false
   }
  },
  {
   "cell_type": "code",
   "execution_count": 223,
   "outputs": [
    {
     "data": {
      "text/plain": "<AxesSubplot: xlabel='nat_demand', ylabel='Count'>"
     },
     "execution_count": 223,
     "metadata": {},
     "output_type": "execute_result"
    },
    {
     "data": {
      "text/plain": "<Figure size 640x480 with 1 Axes>",
      "image/png": "[encoded data removed]"
     },
     "metadata": {},
     "output_type": "display_data"
    }
   ],
   "source": [
    "# Focusing on the long tail on the left. They seem to be outliers.\n",
    "plt.xlim(0, 1000)\n",
    "plt.ylim(0, 10)\n",
    "sns.histplot(df.nat_demand, color='red', bins=50, alpha=0.5)"
   ],
   "metadata": {
    "collapsed": false
   }
  },
  {
   "cell_type": "code",
   "execution_count": 224,
   "outputs": [
    {
     "data": {
      "text/plain": "0.017"
     },
     "execution_count": 224,
     "metadata": {},
     "output_type": "execute_result"
    }
   ],
   "source": [
    "# Looks like there are 8 very low demands. This is only a 0.017% of the total records.\n",
    "# Without these outliers the national demand values are 'normally' distributed.\n",
    "# Therefore, no need to log1p() the values.\n",
    "round(df.nat_demand[df.nat_demand < 600].size / len(df.nat_demand) * 100, 3)"
   ],
   "metadata": {
    "collapsed": false
   }
  },
  {
   "cell_type": "code",
   "execution_count": 225,
   "outputs": [
    {
     "data": {
      "text/plain": "<AxesSubplot: xlabel='nat_demand', ylabel='Count'>"
     },
     "execution_count": 225,
     "metadata": {},
     "output_type": "execute_result"
    },
    {
     "data": {
      "text/plain": "<Figure size 640x480 with 1 Axes>",
      "image/png": "[encoded data removed]"
     },
     "metadata": {},
     "output_type": "display_data"
    }
   ],
   "source": [
    "sns.histplot(df.nat_demand[df.nat_demand > 600], color='red', bins=50, alpha=0.5)"
   ],
   "metadata": {
    "collapsed": false
   }
  },
  {
   "cell_type": "code",
   "execution_count": 226,
   "outputs": [
    {
     "name": "stdout",
     "output_type": "stream",
     "text": [
      "train:val:test split is (28828, 9610, 9610)\n"
     ]
    }
   ],
   "source": [
    "# Splitting the dataset to 80%, 20%, 20% for training, validation, and testing, respectively.\n",
    "\n",
    "df_full_train, df_test = train_test_split(df, test_size=0.2, random_state=1)\n",
    "df_train, df_val = train_test_split(df_full_train, test_size=0.25, random_state=1)\n",
    "print(f'train:val:test split is {(len(df_train), len(df_val), len(df_test))}')"
   ],
   "metadata": {
    "collapsed": false
   }
  },
  {
   "cell_type": "code",
   "execution_count": 227,
   "outputs": [],
   "source": [
    "# Resetting indices\n",
    "df_full_train.reset_index(inplace=True)\n",
    "df_train.reset_index(inplace=True)\n",
    "df_val.reset_index(inplace=True)\n",
    "df_test.reset_index(inplace=True)"
   ],
   "metadata": {
    "collapsed": false
   }
  },
  {
   "cell_type": "code",
   "execution_count": 228,
   "outputs": [],
   "source": [
    "y_train = df_train.nat_demand\n",
    "y_val = df_val.nat_demand\n",
    "y_test = df_test.nat_demand\n",
    "\n",
    "# log1p\n",
    "# y_train = np.log1p(df_train.nat_demand)\n",
    "# y_val = np.log1p(df_val.nat_demand)\n",
    "# y_test = np.log1p(df_test.nat_demand)"
   ],
   "metadata": {
    "collapsed": false
   }
  },
  {
   "cell_type": "code",
   "execution_count": 229,
   "outputs": [],
   "source": [
    "# Removing unwanted variables\n",
    "for c in ['nat_demand', 'dt', 'index']:\n",
    "    del df_train[c]\n",
    "    del df_val[c]\n",
    "    del df_test[c]"
   ],
   "metadata": {
    "collapsed": false
   }
  },
  {
   "cell_type": "code",
   "execution_count": 230,
   "outputs": [
    {
     "data": {
      "text/plain": "0       1249.3280\n1       1092.3660\n2       1391.8517\n3       1024.2945\n4        945.4849\n          ...    \n9605    1322.9521\n9606    1161.2246\n9607    1204.8536\n9608    1152.1953\n9609    1013.1563\nName: nat_demand, Length: 9610, dtype: float64"
     },
     "execution_count": 230,
     "metadata": {},
     "output_type": "execute_result"
    }
   ],
   "source": [
    "y_test"
   ],
   "metadata": {
    "collapsed": false
   }
  },
  {
   "cell_type": "code",
   "execution_count": 231,
   "outputs": [],
   "source": [
    "# Vectorize the features\n",
    "dv = DictVectorizer(sparse=False)\n",
    "train_dicts = df_train.to_dict(orient='records')\n",
    "X_train = dv.fit_transform(train_dicts)\n",
    "\n",
    "val_dicts = df_val.to_dict(orient='records')\n",
    "X_val = dv.transform(val_dicts)"
   ],
   "metadata": {
    "collapsed": false
   }
  },
  {
   "cell_type": "markdown",
   "source": [
    "# Random Forest"
   ],
   "metadata": {
    "collapsed": false
   }
  },
  {
   "cell_type": "code",
   "execution_count": 232,
   "outputs": [],
   "source": [
    "rf = RandomForestRegressor(n_estimators=10,\n",
    "                           random_state=1,\n",
    "                           n_jobs=1,\n",
    "                           max_depth=20)\n",
    "model = rf.fit(X_train, y_train)\n",
    "y_val_pred = rf.predict(X_val)"
   ],
   "metadata": {
    "collapsed": false
   }
  },
  {
   "cell_type": "code",
   "execution_count": 241,
   "outputs": [
    {
     "data": {
      "text/plain": "  metric      score\n0   rmse  82.903189\n1    mae  56.510605",
      "text/html": "<div>\n<style scoped>\n    .dataframe tbody tr th:only-of-type {\n        vertical-align: middle;\n    }\n\n    .dataframe tbody tr th {\n        vertical-align: top;\n    }\n\n    .dataframe thead th {\n        text-align: right;\n    }\n</style>\n<table border=\"1\" class=\"dataframe\">\n  <thead>\n    <tr style=\"text-align: right;\">\n      <th></th>\n      <th>metric</th>\n      <th>score</th>\n    </tr>\n  </thead>\n  <tbody>\n    <tr>\n      <th>0</th>\n      <td>rmse</td>\n      <td>82.903189</td>\n    </tr>\n    <tr>\n      <th>1</th>\n      <td>mae</td>\n      <td>56.510605</td>\n    </tr>\n  </tbody>\n</table>\n</div>"
     },
     "execution_count": 241,
     "metadata": {},
     "output_type": "execute_result"
    }
   ],
   "source": [
    "rf_performance = [('rmse', np.sqrt(mean_squared_error(y_val, y_val_pred))),\n",
    "                  ('mae', mean_absolute_error(y_val, y_val_pred))]\n",
    "pd.DataFrame(rf_performance, columns=['metric', 'score'])"
   ],
   "metadata": {
    "collapsed": false
   }
  },
  {
   "cell_type": "markdown",
   "source": [
    "# XGBoost"
   ],
   "metadata": {
    "collapsed": false
   }
  },
  {
   "cell_type": "code",
   "execution_count": null,
   "outputs": [],
   "source": [
    "features = dv.get_feature_names_out()\n",
    "dm_train = xgb.DMatrix(X_train, label=y_train, feature_names=features)\n",
    "dm_val = xgb.DMatrix(X_val, label=y_val, feature_names=features)"
   ],
   "metadata": {
    "collapsed": false
   }
  },
  {
   "cell_type": "code",
   "execution_count": null,
   "outputs": [],
   "source": [
    "def train_gb_model(eta=0.3, max_depth=6, min_child_weight=1, num_boost_round=200):\n",
    "    watchlist = [(dm_train, 'train'), (dm_val, 'val')]\n",
    "    xgb_params = {\n",
    "        'eta': eta,\n",
    "        'max_depth': max_depth,\n",
    "        'min_child_weight': min_child_weight,\n",
    "\n",
    "        'eval_metric': 'rmse',\n",
    "        'objective': 'reg:squarederror',\n",
    "        'nthread': 8,\n",
    "\n",
    "        'seed': 1,\n",
    "        'verbosity': 1\n",
    "    }\n",
    "    evals_result = {}\n",
    "    xgb.train(params=xgb_params,\n",
    "              dtrain=dm_train,\n",
    "              num_boost_round=num_boost_round,\n",
    "              # verbose_eval=5,\n",
    "              evals=watchlist,\n",
    "              evals_result=evals_result)\n",
    "\n",
    "    columns = ['eta', 'iter', 'train_rmse', 'val_rmse']\n",
    "    train_rmse_scores = list(evals_result['train'].values())[0]\n",
    "    val_rmse_scores = list(evals_result['val'].values())[0]\n",
    "\n",
    "    df_scores = pd.DataFrame(\n",
    "        list(zip([eta] * len(train_rmse_scores),\n",
    "                 range(1, len(train_rmse_scores) + 1),\n",
    "                 train_rmse_scores,\n",
    "                 val_rmse_scores\n",
    "                 )), columns=columns)\n",
    "    return df_scores"
   ],
   "metadata": {
    "collapsed": false
   }
  },
  {
   "cell_type": "code",
   "execution_count": null,
   "outputs": [],
   "source": [
    "scores = {}\n",
    "for eta in tqdm([0.3, 1.0, 0.1, 0.05, 0.01]):\n",
    "    key = f'eta={eta}'\n",
    "    df_scores = train_gb_model(eta=eta)\n",
    "    scores[key] = df_scores"
   ],
   "metadata": {
    "collapsed": false
   }
  },
  {
   "cell_type": "code",
   "execution_count": null,
   "outputs": [],
   "source": [
    "plt.figure(figsize=(14, 10))\n",
    "for key, df_scores in scores.items():\n",
    "    plt.plot(df_scores.iter, df_scores.val_rmse, label=key)\n",
    "    plt.legend()"
   ],
   "metadata": {
    "collapsed": false
   }
  },
  {
   "cell_type": "code",
   "execution_count": null,
   "outputs": [],
   "source": [
    "plt.figure(figsize=(14, 10))\n",
    "for key, df_scores in scores.items():\n",
    "    plt.plot(df_scores.iter, df_scores.train_rmse, label=key)\n",
    "    plt.legend()"
   ],
   "metadata": {
    "collapsed": false
   }
  },
  {
   "cell_type": "code",
   "execution_count": null,
   "outputs": [],
   "source": [],
   "metadata": {
    "collapsed": false
   }
  }
 ],
 "metadata": {
  "kernelspec": {
   "display_name": "Python 3",
   "language": "python",
   "name": "python3"
  },
  "language_info": {
   "codemirror_mode": {
    "name": "ipython",
    "version": 2
   },
   "file_extension": ".py",
   "mimetype": "text/x-python",
   "name": "python",
   "nbconvert_exporter": "python",
   "pygments_lexer": "ipython2",
   "version": "2.7.6"
  }
 },
 "nbformat": 4,
 "nbformat_minor": 0
}
